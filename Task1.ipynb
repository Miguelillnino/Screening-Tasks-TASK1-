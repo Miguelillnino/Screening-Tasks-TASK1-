{
 "cells": [
  {
   "cell_type": "code",
   "execution_count": 1,
   "metadata": {},
   "outputs": [],
   "source": [
    "import numpy as np\n",
    "import math\n",
    "# Importing standard Qiskit libraries\n",
    "\n",
    "from qiskit import QuantumRegister, ClassicalRegister, QuantumCircuit, transpile, Aer, IBMQ\n",
    "from qiskit.tools.jupyter import *\n",
    "from qiskit.visualization import *\n",
    "from qiskit.providers.aer import QasmSimulator\n",
    "import qiskit as qk\n",
    "# Loading your IBM Quantum account(s)\n",
    "\n",
    "provider = IBMQ.load_account()"
   ]
  },
  {
   "cell_type": "code",
   "execution_count": 2,
   "metadata": {},
   "outputs": [],
   "source": [
    "#Function that convert integers numbers in binary from a list\n",
    "def binaryVector(vectorNumbers):\n",
    "    binaryVector = []\n",
    "    lengthBits = 0\n",
    "    binary = bin(max(vectorNumbers))\n",
    "    bin_string = str(binary)\n",
    "    clean_binary = bin_string[2:len(bin_string)]\n",
    "    lengthBits = len(clean_binary) \n",
    "    \n",
    "    for index in range(0,len(vectorNumbers)):\n",
    "        binary = bin(vectorNumbers[index])\n",
    "        bin_string = str(binary)\n",
    "        clean_binary = bin_string[2:len(bin_string)]\n",
    "        totalBinary = stringComplete(lengthBits,clean_binary)\n",
    "        binaryVector.append(totalBinary)\n",
    "    return binaryVector"
   ]
  },
  {
   "cell_type": "code",
   "execution_count": 3,
   "metadata": {},
   "outputs": [],
   "source": [
    "#Function that complete a String from m bits in length \n",
    "def stringComplete(longValue,strignValue):\n",
    "    resta = longValue - len(strignValue)\n",
    "    Ceros = ''\n",
    "    if resta !=0:\n",
    "        for i in range(0,resta):\n",
    "            Ceros += '0'      \n",
    "    return Ceros+strignValue"
   ]
  },
  {
   "cell_type": "code",
   "execution_count": 4,
   "metadata": {},
   "outputs": [],
   "source": [
    "#QRam\n",
    "#Function that make a QRam memory from each number in a memory cell adress.\n",
    "def qRam(binaryVector,qubitsPosition,qubitsBinaryRepresentation):\n",
    "    nQubits=qubitsBinaryRepresentation+qubitsPosition\n",
    "    qc = QuantumCircuit(nQubits)\n",
    "    #Storage the multicontroler list with the index of each vectors' numbers\n",
    "    listaMultiToffoli =[]\n",
    "    for i in range(qubitsBinaryRepresentation,qubitsPosition+qubitsBinaryRepresentation):\n",
    "        listaMultiToffoli.append(i)\n",
    "    #Binary representation of each number of the vector in the corresponding index      \n",
    "    for listaIndx in range(0,len(binaryVector)):\n",
    "        binarioLista = binaryVector[listaIndx]  \n",
    "        binarioIndexLista = bin(listaIndx)\n",
    "        binarioIndexString = str(binarioIndexLista)\n",
    "        binarioIndex = binarioIndexString[2:len(binarioIndexString)]\n",
    "        valorBinario = stringComplete(qubitsPosition,binarioIndex)        \n",
    "        for idx, px_value in enumerate(valorBinario[::-1]):\n",
    "            if(px_value=='0'):\n",
    "                qc.x(idx+qubitsBinaryRepresentation)\n",
    "        for idx, px_value in enumerate(binarioLista[::-1]):\n",
    "            if(px_value=='1'):\n",
    "                qc.mct(listaMultiToffoli,idx)\n",
    "        for idx, px_value in enumerate(valorBinario[::-1]):\n",
    "            if(px_value=='0'):\n",
    "                qc.x(idx+qubitsBinaryRepresentation)           \n",
    "        U_s = qc.to_gate()\n",
    "        U_s.name = \"QRam\"\n",
    "        \n",
    "    return U_s"
   ]
  },
  {
   "cell_type": "code",
   "execution_count": 5,
   "metadata": {},
   "outputs": [],
   "source": [
    "#Outputs-Oracle\n",
    "#Function that make the required outputs and gives the oracle\n",
    "def oracle(outDesired,qubitsBinaryRepresentation):\n",
    "    nQubits=qubitsBinaryRepresentation+outDesired\n",
    "    qc = QuantumCircuit(nQubits)\n",
    "    #Do multi-controlled-Toffoli gate\n",
    "    multiToffoliBinaries = []\n",
    "    for i in range(outDesired,outDesired+qubitsBinaryRepresentation):\n",
    "        multiToffoliBinaries.append(i)\n",
    "    #Encode Out1 all non-adjacent bits zero\n",
    "    for idx in range(outDesired,outDesired+qubitsBinaryRepresentation):\n",
    "        if(idx%2 == 0):\n",
    "            qc.x(idx)\n",
    "    #Apply multi-controlled-Toffoli gate to out0          \n",
    "    qc.mct(multiToffoliBinaries,0)\n",
    "    #Decode Out1 all non-adjacent bits zero\n",
    "    for idx in range(outDesired,outDesired+qubitsBinaryRepresentation):\n",
    "        if(idx%2 == 0):\n",
    "            qc.x(idx)\n",
    "    #Encode Out2 all non-adjacent bits one\n",
    "    for idx in range(outDesired,outDesired+qubitsBinaryRepresentation):\n",
    "        if(idx%2 != 0):\n",
    "            qc.x(idx)            \n",
    "    #Apply multi-controlled-Toffoli gate to out1                         \n",
    "    qc.mct(multiToffoliBinaries,1)       \n",
    "    #Decode Out2 all non-adjacent bits zero\n",
    "    for idx in range(outDesired,outDesired+qubitsBinaryRepresentation):\n",
    "        if(idx%2 != 0):\n",
    "            qc.x(idx)\n",
    "    U_s = qc.to_gate()\n",
    "    U_s.name = \"Oracle\"        \n",
    "    return U_s"
   ]
  },
  {
   "cell_type": "code",
   "execution_count": 6,
   "metadata": {},
   "outputs": [],
   "source": [
    "#Grover implementation (diffuser)\n",
    "def grover(nqubits):\n",
    "    qc = QuantumCircuit(nqubits)\n",
    "    # Apply transformation |s> -> |00..0> (H-gates)\n",
    "    for qubit in range(nqubits):\n",
    "        qc.h(qubit)\n",
    "    # Apply transformation |00..0> -> |11..1> (X-gates)\n",
    "    for qubit in range(nqubits):\n",
    "        qc.x(qubit)\n",
    "    # Do multi-controlled-Z gate\n",
    "    qc.h(nqubits-1)\n",
    "    if(nqubits>=2):\n",
    "        qc.mct(list(range(nqubits-1)), nqubits-1)  # multi-controlled-toffoli\n",
    "    else:\n",
    "        qc.x(nqubits-1)\n",
    "    qc.h(nqubits-1)\n",
    "    # Apply transformation |11..1> -> |00..0>\n",
    "    for qubit in range(nqubits):\n",
    "        qc.x(qubit)\n",
    "    # Apply transformation |00..0> -> |s>\n",
    "    for qubit in range(nqubits):\n",
    "        qc.h(qubit)\n",
    "    # We will return the diffuser as a gate\n",
    "    U_s = qc.to_gate()\n",
    "    U_s.name = \"Grover\"\n",
    "    return U_s"
   ]
  },
  {
   "cell_type": "code",
   "execution_count": 7,
   "metadata": {},
   "outputs": [],
   "source": [
    "#Function to build the quantum circuit from Task 1\n",
    "def circuitTaskOne(binaryVector):\n",
    "#  outDesired = 2 (required Qubits for the both results) int\n",
    "#  qubitsPosition = (required Qubits for vector indices) int\n",
    "#  qubitsBinaryRepresentation = (m bits in length) int\n",
    "    outDesired = 2\n",
    "    qubitsPosition = int(math.log(len(vector),2))\n",
    "    qubitsBinaryRepresentation = len(binaryVector[0])\n",
    "    # named qubits\n",
    "    out = QuantumRegister(outDesired,'out')\n",
    "    binary = QuantumRegister(qubitsBinaryRepresentation,'binary')\n",
    "    index = QuantumRegister(qubitsPosition, 'idex')\n",
    "    # classical register\n",
    "    cr = ClassicalRegister(qubitsPosition,'cr')\n",
    "    # create the quantum circuit\n",
    "    qc = QuantumCircuit(out,binary,index,cr)\n",
    "    # set the total number of qubits\n",
    "    num_qubits = qc.num_qubits\n",
    "    # set multicontrol toffoli difusser\n",
    "    multicontrolerDiffuser = []\n",
    "    init = num_qubits-qubitsPosition\n",
    "    for idx in range(init,num_qubits):\n",
    "        multicontrolerDiffuser.append(idx)\n",
    "    \n",
    "    #Superposition property for the indices to storage the vector's numbers\n",
    "    for index in range(outDesired+qubitsBinaryRepresentation,num_qubits):\n",
    "        qc.h(index)\n",
    "    qc.append(qRam(binaryVector,qubitsPosition,qubitsBinaryRepresentation),range(outDesired,num_qubits))\n",
    "    qc.append(oracle(outDesired,qubitsBinaryRepresentation),range(0,outDesired+qubitsBinaryRepresentation))\n",
    "    qc.append(qRam(binaryVector,qubitsPosition,qubitsBinaryRepresentation),range(outDesired,num_qubits))\n",
    "    qc.append(grover(qubitsPosition), multicontrolerDiffuser)\n",
    "    qc.measure(range(qubitsBinaryRepresentation+outDesired,num_qubits),range(qubitsPosition))\n",
    "    \n",
    "\n",
    "    return qc"
   ]
  },
  {
   "cell_type": "code",
   "execution_count": 8,
   "metadata": {},
   "outputs": [
    {
     "data": {
      "image/png": "[encoded data removed]",
      "text/plain": [
       "<Figure size 801.731x565.88 with 1 Axes>"
      ]
     },
     "execution_count": 8,
     "metadata": {},
     "output_type": "execute_result"
    }
   ],
   "source": [
    "vector = [1,5,7,10]\n",
    "\n",
    "if math.log(len(vector),2) % 2 == 0 and len(vector)>1 or len(vector)==2:\n",
    "    qc_Task = circuitTaskOne(binaryVector(vector))\n",
    "else:\n",
    "    print(\"please define a vector size 2^n\")\n",
    "qc_Task.draw(output='mpl')"
   ]
  },
  {
   "cell_type": "code",
   "execution_count": 9,
   "metadata": {},
   "outputs": [
    {
     "name": "stdout",
     "output_type": "stream",
     "text": [
      "{'11': 380, '01': 372, '00': 141, '10': 107}\n"
     ]
    },
    {
     "data": {
      "image/png": "[encoded data removed]",
      "text/plain": [
       "<Figure size 504x360 with 1 Axes>"
      ]
     },
     "execution_count": 9,
     "metadata": {},
     "output_type": "execute_result"
    }
   ],
   "source": [
    "aer_sim = Aer.get_backend('qasm_simulator')\n",
    "t_qc_image = transpile(circuitTaskOne(binaryVector(vector)), aer_sim)\n",
    "qobj = qk.assemble(t_qc_image, shots=1000)\n",
    "job_neqr = aer_sim.run(qobj)\n",
    "result_neqr = job_neqr.result()\n",
    "counts_neqr = result_neqr.get_counts()\n",
    "\n",
    "print(counts_neqr)\n",
    "plot_histogram(counts_neqr)"
   ]
  },
  {
   "cell_type": "code",
   "execution_count": null,
   "metadata": {},
   "outputs": [],
   "source": []
  }
 ],
 "metadata": {
  "kernelspec": {
   "display_name": "Python 3",
   "language": "python",
   "name": "python3"
  },
  "language_info": {
   "codemirror_mode": {
    "name": "ipython",
    "version": 3
   },
   "file_extension": ".py",
   "mimetype": "text/x-python",
   "name": "python",
   "nbconvert_exporter": "python",
   "pygments_lexer": "ipython3",
   "version": "3.8.5"
  }
 },
 "nbformat": 4,
 "nbformat_minor": 4
}
